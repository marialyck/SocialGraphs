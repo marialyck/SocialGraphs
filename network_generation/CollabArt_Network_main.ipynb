{
 "cells": [
  {
   "cell_type": "code",
   "execution_count": null,
   "metadata": {},
   "outputs": [],
   "source": [
    "from Spotipy_Collab_Artists import *\n",
    "import networkx as nx\n",
    "import matplotlib.pyplot as plt"
   ]
  },
  {
   "cell_type": "markdown",
   "metadata": {},
   "source": [
    "Below is the main code for generating the network of collaborating artists. The code is build like the following:\n",
    "\n",
    "- The network is seeded with an artist that the network starts from\n",
    "- It then find the K top artists that this the “parent artist” have collaborated the most with - this id done through the \"GetCollarboratingArtists\" function found in the py-file added\n",
    "- Then it repeat the cycle N times recursively\n",
    "- N and K are inputted in the code\n",
    "- If an artist already have been analyzed, it skips this artist if it appears in later cycles\n",
    "\n",
    "The network is directed graph where outward going edges corresponds to artists that invites other artists to feature on their own songs and vice vica for in-going edges. The graph is not weighted so once an edge have been established between two given nodes, it is not further counted."
   ]
  },
  {
   "cell_type": "code",
   "execution_count": null,
   "metadata": {},
   "outputs": [],
   "source": [
    "def ExpandNetwork(nodes,edges,G):\n",
    "    G.add_nodes_from(nodes)\n",
    "    G.add_edges_from(edges)\n",
    "    return G"
   ]
  },
  {
   "cell_type": "code",
   "execution_count": null,
   "metadata": {},
   "outputs": [],
   "source": [
    "def Get_CollabArt_recursively(node,all_unique_nodes,n,N,K,G):\n",
    "    if n == N:\n",
    "        return\n",
    "\n",
    "    else:\n",
    "        n += 1\n",
    "        most_collab,nodes,links = GetCollarboratingArtists(node,K)\n",
    "        print(len(nodes))\n",
    "        print(len(links))\n",
    "\n",
    "        new_nodes = []\n",
    "        new_links = []\n",
    "\n",
    "        #for node in most_collab:\n",
    "        for node in nodes:\n",
    "            if node not in all_unique_nodes:\n",
    "                all_unique_nodes.append(node)\n",
    "                new_nodes.append(node)\n",
    "                for idx in range(len(links)):\n",
    "                    new_links.append(links[idx])\n",
    "        \n",
    "        G =  ExpandNetwork(new_nodes,new_links,G)\n",
    "        for idx in range(len(new_nodes)):\n",
    "            new_parent = new_nodes[idx]\n",
    "            Get_CollabArt_recursively(new_parent,all_unique_nodes,n,N,K,G) \n",
    "        print(len(new_nodes))      "
   ]
  },
  {
   "cell_type": "markdown",
   "metadata": {},
   "source": [
    "The main part of the code ..."
   ]
  },
  {
   "cell_type": "code",
   "execution_count": null,
   "metadata": {},
   "outputs": [],
   "source": [
    "N = 5 #number of rounds\n",
    "K = 5 #number of most collabing artists\n",
    "n = 0\n",
    "seed_name = 'Ed Sheeran'\n",
    "all_nodes = [seed_name]\n",
    "G=nx.DiGraph() #start network\n",
    "G.add_node(seed_name) #add start node\n",
    "Get_CollabArt_recursively(seed_name,all_nodes,n,N,K,G)"
   ]
  },
  {
   "cell_type": "markdown",
   "metadata": {},
   "source": [
    "Once generated, the network is saved as a gexf-file so it can easy accessed later on."
   ]
  },
  {
   "cell_type": "code",
   "execution_count": null,
   "metadata": {},
   "outputs": [],
   "source": [
    "path = \"‪C:/Users/Bruger/Desktop/Project A/\"\n",
    "nx.write_gexf(G,\"test.gexf\",encoding='utf-8')"
   ]
  }
 ],
 "metadata": {
  "kernelspec": {
   "display_name": "Python 3",
   "language": "python",
   "name": "python3"
  },
  "language_info": {
   "codemirror_mode": {
    "name": "ipython",
    "version": 3
   },
   "file_extension": ".py",
   "mimetype": "text/x-python",
   "name": "python",
   "nbconvert_exporter": "python",
   "pygments_lexer": "ipython3",
   "version": "3.7.4"
  }
 },
 "nbformat": 4,
 "nbformat_minor": 2
}
